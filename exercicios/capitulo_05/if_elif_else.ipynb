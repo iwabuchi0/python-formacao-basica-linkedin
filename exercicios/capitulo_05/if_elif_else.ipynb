{
 "cells": [
  {
   "attachments": {},
   "cell_type": "markdown",
   "metadata": {},
   "source": [
    "- Crie uma lista com 30 dados do tipo numérico\n"
   ]
  },
  {
   "cell_type": "code",
   "execution_count": 6,
   "metadata": {},
   "outputs": [
    {
     "name": "stdout",
     "output_type": "stream",
     "text": [
      "[1, 2, 3, 4, 5, 6, 7, 8, 9, 10, 11, 12, 13, 14, 15, 16, 17, 18, 19, 20, 21, 22, 23, 24, 25, 26, 27, 28, 29, 30]\n"
     ]
    }
   ],
   "source": [
    "lista = list(range(1, 31))\n",
    "print(lista)"
   ]
  },
  {
   "attachments": {},
   "cell_type": "markdown",
   "metadata": {},
   "source": [
    "- Dentro de um for loop, crie uma estrutura condicional que imprima na tela o número, caso ele seja maior do que 20. Se o número for 20, imprima 'Esse número é igual a 20.’ e se for maior do que 20, imprima ‘Esse número é maior do que 20.’\n"
   ]
  },
  {
   "cell_type": "code",
   "execution_count": 9,
   "metadata": {},
   "outputs": [
    {
     "name": "stdout",
     "output_type": "stream",
     "text": [
      "Esse numero é maior do que 20\n",
      "Esse numero é maior do que 20\n",
      "Esse numero é maior do que 20\n",
      "Esse numero é maior do que 20\n",
      "Esse numero é maior do que 20\n",
      "Esse numero é maior do que 20\n",
      "Esse numero é maior do que 20\n",
      "Esse numero é maior do que 20\n",
      "Esse numero é maior do que 20\n",
      "Esse numero é maior do que 20\n",
      "Esse numero é maior do que 20\n",
      "Esse numero é maior do que 20\n",
      "Esse numero é maior do que 20\n",
      "Esse numero é maior do que 20\n",
      "Esse numero é maior do que 20\n",
      "Esse numero é maior do que 20\n",
      "Esse numero é maior do que 20\n",
      "Esse numero é maior do que 20\n",
      "Esse numero é maior do que 20\n",
      "Esse numero é igual a 20\n",
      "21\n",
      "22\n",
      "23\n",
      "24\n",
      "25\n",
      "26\n",
      "27\n",
      "28\n",
      "29\n",
      "30\n"
     ]
    }
   ],
   "source": [
    "for numero in lista:\n",
    "    if numero > 20: \n",
    "        print(numero)\n",
    "    elif numero == 20:\n",
    "        print('Esse numero é igual a 20')\n",
    "    else: \n",
    "        print('Esse numero é maior do que 20')"
   ]
  },
  {
   "attachments": {},
   "cell_type": "markdown",
   "metadata": {},
   "source": [
    "- Crie as seguintes variáveis contendo listas vazias: ate_12, entre_13_e_20, maior_21"
   ]
  },
  {
   "cell_type": "code",
   "execution_count": 18,
   "metadata": {},
   "outputs": [],
   "source": [
    "idades = range(50)"
   ]
  },
  {
   "cell_type": "code",
   "execution_count": 19,
   "metadata": {},
   "outputs": [],
   "source": [
    "ate_12 = []\n",
    "entre_13_e_20 = []\n",
    "maior_21 = []"
   ]
  },
  {
   "attachments": {},
   "cell_type": "markdown",
   "metadata": {},
   "source": [
    "- Dentro de um for loop, crie uma estrutura condicional que distribua em cada lista os números seguindo as condições abaixo: \n",
    "1. se o número for menor do que 12, armazene-o na lista ate_12\n",
    "2. se o número estiver entre 13 e 20, amazene-o na lista entre_13_e_20\n",
    "3. se o número for maior do 21, armazene-o na lista maior_21\n",
    "\n"
   ]
  },
  {
   "cell_type": "code",
   "execution_count": 22,
   "metadata": {},
   "outputs": [],
   "source": [
    "for idade in idades:\n",
    "    if idade <= 12:\n",
    "        ate_12.append(idade)\n",
    "    elif idade > 12 and idade <= 20:\n",
    "        entre_13_e_20.append(idade)\n",
    "    elif idade > 20:\n",
    "        maior_21.append(idade)\n",
    "\n",
    "\n"
   ]
  }
 ],
 "metadata": {
  "kernelspec": {
   "display_name": ".venv",
   "language": "python",
   "name": "python3"
  },
  "language_info": {
   "codemirror_mode": {
    "name": "ipython",
    "version": 3
   },
   "file_extension": ".py",
   "mimetype": "text/x-python",
   "name": "python",
   "nbconvert_exporter": "python",
   "pygments_lexer": "ipython3",
   "version": "3.10.12"
  },
  "orig_nbformat": 4
 },
 "nbformat": 4,
 "nbformat_minor": 2
}
