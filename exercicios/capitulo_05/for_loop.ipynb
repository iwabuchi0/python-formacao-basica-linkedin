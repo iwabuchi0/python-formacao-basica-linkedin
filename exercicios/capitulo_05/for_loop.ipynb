{
 "cells": [
  {
   "attachments": {},
   "cell_type": "markdown",
   "metadata": {},
   "source": [
    "- Crie uma lista\n"
   ]
  },
  {
   "cell_type": "code",
   "execution_count": 1,
   "metadata": {},
   "outputs": [],
   "source": [
    "lista = [3, 9, 35, 34]"
   ]
  },
  {
   "attachments": {},
   "cell_type": "markdown",
   "metadata": {},
   "source": [
    "- Crie um for loop para imprimir na tela todos os elementos da lista\n"
   ]
  },
  {
   "cell_type": "code",
   "execution_count": 5,
   "metadata": {},
   "outputs": [
    {
     "name": "stdout",
     "output_type": "stream",
     "text": [
      "Estamos no else.\n",
      "35\n",
      "Esse número é par\n",
      "34\n"
     ]
    }
   ],
   "source": [
    "for numero in lista:\n",
    "    if numero % 3 == 0:\n",
    "        continue\n",
    "    elif numero % 2 == 0:\n",
    "        print('Esse número é par')\n",
    "    else:\n",
    "        print('Estamos no else.')\n",
    "    print(numero)"
   ]
  },
  {
   "attachments": {},
   "cell_type": "markdown",
   "metadata": {},
   "source": [
    "- Crie um for loop usando o recurso \"continue\"\n"
   ]
  },
  {
   "cell_type": "code",
   "execution_count": null,
   "metadata": {},
   "outputs": [],
   "source": [
    "for numero in lista:\n",
    "    if numero % 3 == 0:\n",
    "        continue\n",
    "    elif numero % 2 == 0:\n",
    "        print('Esse número é par')\n",
    "    else:\n",
    "        print('Estamos no else.')\n",
    "    print(numero)"
   ]
  },
  {
   "attachments": {},
   "cell_type": "markdown",
   "metadata": {},
   "source": [
    "- Crie um for loop usando o recurso \"break\"\n"
   ]
  },
  {
   "cell_type": "code",
   "execution_count": 6,
   "metadata": {},
   "outputs": [
    {
     "name": "stdout",
     "output_type": "stream",
     "text": [
      "Esse número é divisível por 3\n"
     ]
    }
   ],
   "source": [
    "for numero in lista:\n",
    "    if numero % 3 == 0:\n",
    "        print('Esse número é divisível por 3')\n",
    "        break\n",
    "    elif numero % 2 == 0:\n",
    "        print('Esse número é par')\n",
    "    else:\n",
    "        print('Estamos no else.')\n",
    "    print(numero)"
   ]
  },
  {
   "attachments": {},
   "cell_type": "markdown",
   "metadata": {},
   "source": [
    "- Crie um for loop usando o \"else\"\n"
   ]
  },
  {
   "cell_type": "code",
   "execution_count": 9,
   "metadata": {},
   "outputs": [
    {
     "name": "stdout",
     "output_type": "stream",
     "text": [
      "Esse número é divisível por 3\n",
      "3\n",
      "Esse número é divisível por 3\n",
      "9\n",
      "35\n",
      "Esse número é par\n",
      "34\n",
      "Aqui acaba o loop\n"
     ]
    }
   ],
   "source": [
    "for numero in lista:\n",
    "    if numero % 3 == 0:\n",
    "        print('Esse número é divisível por 3')\n",
    "    elif numero % 2 == 0:\n",
    "        print('Esse número é par')\n",
    "    print(numero)\n",
    "else:\n",
    "        print('Aqui acaba o loop')\n",
    "    "
   ]
  }
 ],
 "metadata": {
  "kernelspec": {
   "display_name": ".venv",
   "language": "python",
   "name": "python3"
  },
  "language_info": {
   "codemirror_mode": {
    "name": "ipython",
    "version": 3
   },
   "file_extension": ".py",
   "mimetype": "text/x-python",
   "name": "python",
   "nbconvert_exporter": "python",
   "pygments_lexer": "ipython3",
   "version": "3.10.12"
  },
  "orig_nbformat": 4
 },
 "nbformat": 4,
 "nbformat_minor": 2
}
