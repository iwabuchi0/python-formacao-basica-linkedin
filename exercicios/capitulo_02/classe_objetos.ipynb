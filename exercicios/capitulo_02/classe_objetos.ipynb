{
 "cells": [
  {
   "cell_type": "markdown",
   "metadata": {},
   "source": [
    "- Crie uma classe com 3 atributos"
   ]
  },
  {
   "cell_type": "code",
   "execution_count": 55,
   "metadata": {},
   "outputs": [
    {
     "name": "stdout",
     "output_type": "stream",
     "text": [
      "Prato: Carne, Acompanhamento: molho branco, Sobremesa: sorvete de creme\n"
     ]
    }
   ],
   "source": [
    "class Prato: \n",
    "    def __init__(self, nome, acompanhamento, sobremesa):\n",
    "        self.nome = nome\n",
    "        self.acompanhamento = 'molho branco'\n",
    "        self.sobremesa = 'sorvete de creme'\n",
    "    def prato(self):\n",
    "        print (f'Prato: {self.nome}, Acompanhamento: {self.acompanhamento}, Sobremesa: {self.sobremesa}')\n",
    "meu_prato = Prato(\"Carne\", None, None)\n",
    "meu_prato.prato()"
   ]
  },
  {
   "cell_type": "markdown",
   "metadata": {},
   "source": [
    "- Defina um método para a classe"
   ]
  },
  {
   "cell_type": "code",
   "execution_count": 54,
   "metadata": {},
   "outputs": [
    {
     "ename": "AttributeError",
     "evalue": "'Prato' object has no attribute 'prato'",
     "output_type": "error",
     "traceback": [
      "\u001b[0;31m---------------------------------------------------------------------------\u001b[0m",
      "\u001b[0;31mAttributeError\u001b[0m                            Traceback (most recent call last)",
      "Cell \u001b[0;32mIn[54], line 4\u001b[0m\n\u001b[1;32m      2\u001b[0m     \u001b[38;5;28mprint\u001b[39m (\u001b[38;5;124mf\u001b[39m\u001b[38;5;124m'\u001b[39m\u001b[38;5;124mPrato: \u001b[39m\u001b[38;5;132;01m{\u001b[39;00m\u001b[38;5;28mself\u001b[39m\u001b[38;5;241m.\u001b[39mnome\u001b[38;5;132;01m}\u001b[39;00m\u001b[38;5;124m, Acompanhamento: \u001b[39m\u001b[38;5;132;01m{\u001b[39;00m\u001b[38;5;28mself\u001b[39m\u001b[38;5;241m.\u001b[39macompanhamento\u001b[38;5;132;01m}\u001b[39;00m\u001b[38;5;124m, Sobremesa: \u001b[39m\u001b[38;5;132;01m{\u001b[39;00m\u001b[38;5;28mself\u001b[39m\u001b[38;5;241m.\u001b[39msobremesa\u001b[38;5;132;01m}\u001b[39;00m\u001b[38;5;124m'\u001b[39m)\n\u001b[1;32m      3\u001b[0m meu_prato \u001b[38;5;241m=\u001b[39m Prato(\u001b[38;5;124m\"\u001b[39m\u001b[38;5;124mCarne\u001b[39m\u001b[38;5;124m\"\u001b[39m, \u001b[38;5;28;01mNone\u001b[39;00m, \u001b[38;5;28;01mNone\u001b[39;00m)\n\u001b[0;32m----> 4\u001b[0m \u001b[43mmeu_prato\u001b[49m\u001b[38;5;241;43m.\u001b[39;49m\u001b[43mprato\u001b[49m()\n",
      "\u001b[0;31mAttributeError\u001b[0m: 'Prato' object has no attribute 'prato'"
     ]
    }
   ],
   "source": [
    "    def prato(self):\n",
    "        print (f'Prato: {self.nome}, Acompanhamento: {self.acompanhamento}, Sobremesa: {self.sobremesa}')\n",
    "meu_prato = Prato(\"Carne\", None, None)\n",
    "meu_prato.prato()"
   ]
  },
  {
   "cell_type": "markdown",
   "metadata": {},
   "source": [
    "- Instancie a classe"
   ]
  },
  {
   "cell_type": "code",
   "execution_count": null,
   "metadata": {},
   "outputs": [
    {
     "ename": "AttributeError",
     "evalue": "'Prato' object has no attribute 'prato'",
     "output_type": "error",
     "traceback": [
      "\u001b[0;31m---------------------------------------------------------------------------\u001b[0m",
      "\u001b[0;31mAttributeError\u001b[0m                            Traceback (most recent call last)",
      "Cell \u001b[0;32mIn[53], line 2\u001b[0m\n\u001b[1;32m      1\u001b[0m meu_prato \u001b[38;5;241m=\u001b[39m Prato(\u001b[38;5;124m\"\u001b[39m\u001b[38;5;124mCarne\u001b[39m\u001b[38;5;124m\"\u001b[39m, \u001b[38;5;28;01mNone\u001b[39;00m, \u001b[38;5;28;01mNone\u001b[39;00m)\n\u001b[0;32m----> 2\u001b[0m \u001b[43mmeu_prato\u001b[49m\u001b[38;5;241;43m.\u001b[39;49m\u001b[43mprato\u001b[49m()\n",
      "\u001b[0;31mAttributeError\u001b[0m: 'Prato' object has no attribute 'prato'"
     ]
    }
   ],
   "source": [
    "\n"
   ]
  },
  {
   "cell_type": "markdown",
   "metadata": {},
   "source": [
    "- Execute o método"
   ]
  },
  {
   "cell_type": "code",
   "execution_count": null,
   "metadata": {},
   "outputs": [
    {
     "ename": "AttributeError",
     "evalue": "'Prato' object has no attribute 'prato'",
     "output_type": "error",
     "traceback": [
      "\u001b[0;31m---------------------------------------------------------------------------\u001b[0m",
      "\u001b[0;31mAttributeError\u001b[0m                            Traceback (most recent call last)",
      "Cell \u001b[0;32mIn[50], line 1\u001b[0m\n\u001b[0;32m----> 1\u001b[0m \u001b[43mmeu_prato\u001b[49m\u001b[38;5;241;43m.\u001b[39;49m\u001b[43mprato\u001b[49m()\n",
      "\u001b[0;31mAttributeError\u001b[0m: 'Prato' object has no attribute 'prato'"
     ]
    }
   ],
   "source": []
  }
 ],
 "metadata": {
  "kernelspec": {
   "display_name": ".venv",
   "language": "python",
   "name": "python3"
  },
  "language_info": {
   "name": "python",
   "version": "3.10.12"
  },
  "orig_nbformat": 4
 },
 "nbformat": 4,
 "nbformat_minor": 2
}
